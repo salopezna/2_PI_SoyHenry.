{
 "cells": [
  {
   "cell_type": "markdown",
   "metadata": {},
   "source": [
    "---\n",
    "### ✅ **ANÁLISIS DEL SECTOR DE INTERNET EN ARGENTINA**\n",
    "#### *La industria de las telecomunicaciones ha desempeñado un papel crucial en nuestra sociedad, facilitando la información a escala global y permitiendo la comunicación continua. La transferencia de datos y la comunicación se realizan principalmente a través de internet, líneas telefónicas fijas y móviles. Argentina está a la vanguardia en el desarrollo de las telecomunicaciones, contando con un total de 62,12 millones de conexiones en 2020. Dada la relevancia del tema para el país, he llevado a cabo un análisis exhaustivo que permite identificar el comportamiento de este sector a nivel nacional, enfocándome en el acceso al servicio de Internet y su relación con otros servicios de comunicaciones. El objetivo es generar recomendaciones para ofrecer una buena calidad de servicio, identificar oportunidades de crecimiento y plantear soluciones personalizadas para clientes actuales o potenciales.*\n",
    "---"
   ]
  },
  {
   "cell_type": "markdown",
   "metadata": {},
   "source": [
    "### 💡 **Organización del Proyecto para el Desarrollo del Análisis del Sector**\n",
    "\n",
    "Si en **Jupyter Notebook** no se ve bien por los emojis o la alineación:\n",
    "\n",
    "- **Usa solo caracteres ASCII** para estructuras más simples:\n",
    "  \n",
    "```markdown\n",
    "# Estructura del Proyecto\n",
    "\n",
    "mvp_pi2/\n",
    "│\n",
    "├── datos/                       \n",
    "│   ├── crudos_raw/              \n",
    "│   └── transformados_processed/ \n",
    "│\n",
    "├── notebooks/                   \n",
    "│   └── eda_notebook.ipynb       \n",
    "│\n",
    "├── src/                         \n",
    "│   ├── __init__.py              \n",
    "│   ├── etl.py                   \n",
    "│   ├── api.py                   \n",
    "│   ├── recommendation.py        \n",
    "│   └── validation.py            \n",
    "│\n",
    "├── tests/                       \n",
    "│   └── test_api.py              \n",
    "│\n",
    "├── requirements.txt             \n",
    "├── README.md                    \n",
    "└── main.py  \n",
    "#### *A partir de fuentes de información como el portal de ENACOM (https://indicadores.enacom.gob.ar/datos-abiertos), se obtienen datos asociados al comportamiento histórico trimestral desde el año 2014 hasta el tercer trimestre de 2024 a nivel nacional y, en algunos casos, a nivel provincial. Todos estos datos están concentrados en múltiples hojas dentro de un solo archivo de Excel.*"
   ]
  },
  {
   "cell_type": "markdown",
   "metadata": {},
   "source": [
    "---\n",
    "\n",
    "### ✅ **Detalles para mejor visualización:**\n",
    "\n",
    "1. **Usa bloques de código triple backtick (` ``` `)** para mantener la estructura sin que se rompa.\n",
    "2. **Agrega espacios para alinear los elementos correctamente.**\n",
    "3. **Usa emojis estratégicamente** para resaltar los tipos de archivos/carpetas sin sobrecargar.\n",
    "4. **Evita descripciones largas en la misma línea.** Si es necesario, usa comentarios o viñetas aparte.\n",
    "\n",
    "---\n",
    "\n",
    "### 💡 **Consejo en Jupyter Notebook:**\n",
    "\n",
    "Si en **Jupyter Notebook** no se ve bien por los emojis o la alineación:\n",
    "\n",
    "- **Usa solo caracteres ASCII** para estructuras más simples:\n",
    "  \n",
    "```markdown\n",
    "# Estructura del Proyecto\n",
    "\n",
    "mvp_pi2/\n",
    "│\n",
    "├── datos/                       \n",
    "│   ├── crudos_raw/              \n",
    "│   └── transformados_processed/ \n",
    "│\n",
    "├── notebooks/                   \n",
    "│   └── eda_notebook.ipynb       \n",
    "│\n",
    "├── src/                         \n",
    "│   ├── __init__.py              \n",
    "│   ├── etl.py                   \n",
    "│   ├── api.py                   \n",
    "│   ├── recommendation.py        \n",
    "│   └── validation.py            \n",
    "│\n",
    "├── tests/                       \n",
    "│   └── test_api.py              \n",
    "│\n",
    "├── requirements.txt             \n",
    "├── README.md                    \n",
    "└── main.py                      "
   ]
  },
  {
   "cell_type": "markdown",
   "metadata": {},
   "source": []
  },
  {
   "cell_type": "code",
   "execution_count": null,
   "metadata": {
    "vscode": {
     "languageId": "markdown"
    }
   },
   "outputs": [],
   "source": [
    "#### Organización del Proyecto para el Desarrollo del Análisis del Sector de Internet en Argentina\n",
    "### A partir de fuentes de información como el portal de ENACOM (https://indicadores.enacom.gob.ar/datos-abiertos), se obtienen datos asociados al comportamiento histórico trimestral desde el año 2014 hasta el tercer trimestre de 2024 a nivel nacional y, en algunos casos, a nivel provincial. Todos estos datos están concentrados en múltiples hojas dentro de un solo archivo de Excel."
   ]
  },
  {
   "cell_type": "code",
   "execution_count": null,
   "metadata": {
    "vscode": {
     "languageId": "plaintext"
    }
   },
   "outputs": [],
   "source": []
  },
  {
   "cell_type": "markdown",
   "metadata": {},
   "source": [
    "# **Poceso de ETL en datos Nacionales de Argetina sobre su servicio de Internet**\n",
    "## *Con base en un archivo de Excel que contiene multiples hojas con información sobre el servicio de internet en el pais de Argentina, iniciamos el proceso de ExploraciÓn, transformación y carga de la información para crear la base a nivel de datos que permitirá crear valor aplicando técnicas de Data Analitycs y Ciencia de Datos.*"
   ]
  },
  {
   "cell_type": "code",
   "execution_count": null,
   "metadata": {
    "vscode": {
     "languageId": "plaintext"
    }
   },
   "outputs": [],
   "source": []
  }
 ],
 "metadata": {
  "language_info": {
   "name": "python"
  }
 },
 "nbformat": 4,
 "nbformat_minor": 2
}
