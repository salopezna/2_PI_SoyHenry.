{
 "cells": [
  {
   "cell_type": "markdown",
   "metadata": {},
   "source": [
    "#### **EDA (Exploración y Analisis de los Datos)**\n",
    "**Se inicializa el proceso con la importación de los csv resultantes del ETL y las revisiones tienen las siguientes depuraciones:**\n",
    "\n",
    "1.\tDimensiones y tipos de datos: Se ha validado las dimensiones de cada dataframe y los tipos de datos allí contenidos.\n",
    "        •   Los dataframe del proyecto tienen dataframes que van desde las 43 hsta las 18884 filas y de las 5 a las 25 columnas\n",
    "        •   Los dos dataframe mas grandes, con dimensiones de 43x25 y 1032x21, tienen campos con 1 nulo y de 24 a 32 nulos respectivamete, su impacto es inferior al 1% en el primer caso por lo cual no se le realiza imputación alguna, en el caso del segunda dataframe donde el impacto llegaría maximo al  3,1% de su cantidad de datos por campo entonces se le realiza imputacion a su media aritmetica ya que obedece a campos realacionados con accesos y velocidades de internet.\n",
    "\t    •\tLa revision de los tipos de valores de cada campo ya se habia realizado en el ETL sin embargo se corrobora Revisar los tipos de datos (numéricos, categóricos, fechas, booleanos, etc.) para confirmar que estén alineados con lo esperado tras el ETL.\n",
    "\n",
    "    | Campo                            | Tipo de Dato | Tipo Variable        | Descripción                                          |\n",
    "    |----------------------------------|--------------|----------------------|------------------------------------------------------|\n",
    "    | Año                              | Int64        | Numérica discreta    | Año en formato entero (ej. 2019)                     |\n",
    "    | Trimestre                        | Int64        | Numérica discreta    | Trimestre del año (1, 2, 3, 4)                       |\n",
    "    | Provincia                        | category     | Categórica nominal   | Nombre de la Provincia                               |\n",
    "    | \"campos asociados a velocidades\" | float64      | Numérica continua    | Velocidad promedio de bajada en Mbps                 |\n",
    "    | \"Campos asociados a accesos\"     | float64      | Numérica continua    | Cantidad de accesos a Internet                       |\n",
    "    | Periodo                          | category     | Categórica ordinal   | Trimestre representado en Año y meses comprendidos   |\n",
    "    | Ingresos                         | float64      | Numérica continua    | Dinero generado en Ingresos                          |\n",
    "        \n",
    "    2.\tValores nulos y duplicados: Se descarta duplicidad en los datos Categoricos de las Provincias, en el caso de los datos nulos son pocas las ocurrencias por lo cual para el EDA no impactaría o afectaria el analisis."
   ]
  },
  {
   "cell_type": "code",
   "execution_count": 1,
   "metadata": {},
   "outputs": [
    {
     "name": "stdout",
     "output_type": "stream",
     "text": [
      "El dataframe df_internet_nacional tiene una dimensión de: (43, 25) \n",
      "                             Tipo de Dato Int Int64 Float Bool DateT Str Ctgory No_Nulos Nulos Únicos Ceros Vacíos (string) Media            Desviación_Std   Mínimo         Q1_25%          Q2_50%           Q3_75%           Máximo        Negativos\n",
      "Año                            int64      43  0      0    0    0      0  NaN    43       0     12       0   NaN                 2019.093023         3.734103           2014          2016.0           2019.0           2021.5          2033    0     \n",
      "Trimestre                      int64      43  0      0    0    0      0  NaN    43       0      4       0   NaN                    2.418605         1.138766              1             1.0              2.0              3.0             4    0     \n",
      "Tot_Vel_Media_DL             float64       0  0     42    0    0      0  NaN    42       1     43       0   NaN                   39.334762        43.643195       3.617127        6.038428           18.855            51.37        139.25    0     \n",
      "Tot_Acc_ADSL                 float64       0  0     42    0    0      0  NaN    42       1     43       0   NaN              2694843.857143   1094346.632094       733491.0       1730869.0        3061623.0        3713297.5     3803024.0    0     \n",
      "Tot_Acc_CaModem              float64       0  0     42    0    0      0  NaN    42       1     43       0   NaN                   4433906.0   1319783.049714      2407330.0      3146291.75        4535507.0       5857192.25     6073426.0    0     \n",
      "Tot_Acc_FO                   float64       0  0     42    0    0      0  NaN    42       1     43       0   NaN              1224693.571429   1321135.967138       139187.0        171941.0         698946.5        1945689.0     4169958.0    0     \n",
      "Tot_Acc_Wireless             float64       0  0     42    0    0      0  NaN    42       1     43       0   NaN               304293.214286    203202.399993        70749.0         85390.5         292223.0         515434.0      598682.0    0     \n",
      "Tot_Acc_Otros                float64       0  0     42    0    0      0  NaN    42       1     43       0   NaN               158186.071429     82363.507846        54300.0         70430.0         185221.0         244069.5      265328.0    0     \n",
      "Total                        float64       0  0     42    0    0      0  NaN    42       1     43       0   NaN              8815922.714286   1733188.753506      6398398.0      7218130.75        8720658.0      10388730.75    11633156.0    0     \n",
      "Periodo                       object       0  0      0    0    0     42  NaN    42       1     43     NaN   NaN                         NaN              NaN            NaN             NaN              NaN              NaN           NaN  NaN     \n",
      "Tot_pntrcion_x_c100_Hoga     float64       0  0     42    0    0      0  NaN    42       1     43       0   NaN                   63.201813         9.950321      49.545821       53.784644        62.667764        72.527011         78.89    0     \n",
      "Tot_pntrcion_x_c100_Habi     float64       0  0     42    0    0      0  NaN    42       1     43       0   NaN                     19.5746         3.268665      15.050104       16.519507        19.395586        22.603664         24.79    0     \n",
      "Tot_Acc_rango_0_512_kbps     float64       0  0     42    0    0      0  NaN    42       1     42       0   NaN                46756.595238     48922.973593         5675.0        29027.75          34960.0          41057.5      241713.0    0     \n",
      "Tot_Acc_rango_0.512->1_Mbps  float64       0  0     42    0    0      0  NaN    42       1     43       0   NaN               215615.285714    192134.704593        28521.0        69951.75         150273.0        279159.25      687619.0    0     \n",
      "Tot_Acc_rango_1->6_Mbps      float64       0  0     42    0    0      0  NaN    42       1     43       0   NaN              3176364.785714   1552136.429491       840200.0      1692723.75        3313002.5        4780395.5     5153437.0    0     \n",
      "Tot_Acc_rango_6->10_Mbps     float64       0  0     42    0    0      0  NaN    42       1     43       0   NaN               915481.857143    229375.825017       289182.0       862345.25         978762.0        1058517.5     1245333.0    0     \n",
      "Tot_Acc_rango_10->20_Mbps    float64       0  0     42    0    0      0  NaN    42       1     43       0   NaN               884427.642857     451590.03078       101127.0        677435.5         792972.5        1022656.5     2068087.0    0     \n",
      "Tot_Acc_rango_20->30_Mbps    float64       0  0     42    0    0      0  NaN    42       1     43       0   NaN               478365.619048    433434.313766          345.0        135803.5         361249.5         592545.0     1688748.0    0     \n",
      "Tot_Acc_rango_>30_Mbps       float64       0  0     42    0    0      0  NaN    42       1     43       0   NaN              2909772.261905   3138714.699433        11595.0         32914.0        1408279.0        5761285.0     8363694.0    0     \n",
      "Tot_Acc_rango_Otros          float64       0  0     42    0    0      0  NaN    42       1     29      15   NaN               154081.071429    132453.955052            0.0             0.0         176235.5         242214.0      414754.0    0     \n",
      "Tot_Acc_rango                float64       0  0     42    0    0      0  NaN    42       1     43       0   NaN              8780865.119048   1772654.726356      6272846.0       7151638.0        8720658.0      10388730.75    11633156.0    0     \n",
      "Tot_B_Ancha_Fija             float64       0  0     42    0    0      0  NaN    42       1     43       0   NaN               8794432.52381   1742229.321362      6362108.0       7189537.0        8704688.0      10376495.75    11621363.0    0     \n",
      "Tot_DialUp                   float64       0  0     42    0    0      0  NaN    42       1     36       0   NaN                21490.190476     10136.781243         9991.0         11793.0          21802.5         28593.75       39324.0    0     \n",
      "Tot_DialUp_+_B_Ancha_Fija    float64       0  0     42    0    0      0  NaN    42       1     43       0   NaN              8815922.714286   1733188.753506      6398398.0      7218130.75        8720658.0      10388730.75    11633156.0    0     \n",
      "Ingresos (miles de pesos)    float64       0  0     42    0    0      0  NaN    42       1     43       0   NaN             50016480.782883  87102080.456403  2984054.20878  7055326.252462  20475265.732429  44850901.446965  442032166.69    0      \n",
      "\n",
      "El dataframe df_internet_provincias tiene una dimensión de: (1032, 21) \n",
      "                                    Tipo de Dato Int   Int64 Float Bool DateT Str   Ctgory No_Nulos Nulos Únicos Ceros Vacíos (string) Media          Desviación_Std Mínimo    Q1_25%     Q2_50%     Q3_75%     Máximo      Negativos\n",
      "Año                                   int64      1032  0        0  0    0        0  NaN    1032      0      11     0   NaN               2018.883721        3.10596      2014     2016.0     2019.0     2022.0        2024    0     \n",
      "Trimestre                             int64      1032  0        0  0    0        0  NaN    1032      0       4     0   NaN                  2.488372       1.128874         1        1.0        2.0        4.0           4    0     \n",
      "Provincia                            object         0  0        0  0    0     1032  NaN    1032      0      24   NaN     0                       NaN            NaN       NaN        NaN        NaN        NaN         NaN  NaN     \n",
      "Tot_Vel_Media_DL_Trim_x_Prov        float64         0  0     1008  0    0        0  NaN    1008     24    1003     0   NaN                 24.720245      33.660764  2.573729   4.866698  10.089315  29.875292      234.44    0     \n",
      "Tot_Acc_ADSL_x_Prov                 float64         0  0     1007  0    0        0  NaN    1007     25     897     0   NaN             112930.860973  236292.179471    2230.0    19789.5    43967.0    87220.0   1586343.0    0     \n",
      "Tot_Acc_CaModem_x_Prov              float64         0  0     1007  0    0        0  NaN    1007     25     890    14   NaN             182158.281033  446005.777989       0.0    11020.5    40750.0    76783.5   2797700.0    0     \n",
      "Tot_Acc_FO_x_Prov                   float64         0  0     1007  0    0        0  NaN    1007     25     754     9   NaN              48556.986097   175869.37569       0.0      354.0     3015.0    29257.0   1849476.0    0     \n",
      "Tot_Acc_Wireless_x_Prov             float64         0  0     1007  0    0        0  NaN    1007     25     716    38   NaN              12542.229394   20909.412762       0.0      813.0     5224.0    14367.5    138638.0    0     \n",
      "Tot_Acc_Otros_x_Prov                float64         0  0     1007  0    0        0  NaN    1007     25     672     0   NaN               6497.041708   11239.855091       2.0      334.5     1920.0     7548.0     73415.0    0     \n",
      "Tot_Acc_x_Prov                      float64         0  0     1007  0    0        0  NaN    1007     25     999     0   NaN             362685.399206  777313.747461   12557.0    62411.5   113915.0   195652.0   5011620.0    0     \n",
      "Tot_pntrcion_x_c100_Habi_x_Prov     float64         0  0     1000  0    0        0  NaN    1000     32     991     0   NaN                 15.727248       9.240063     2.723   9.018188  13.674812  20.323973   52.236739    0     \n",
      "Tot_pntrcion_x_c100_Hoga_x_Prov     float64         0  0     1000  0    0        0  NaN    1000     32     994     0   NaN                 52.794973      24.135063   9.51397  33.957657  50.133004  67.010861  124.061394    0     \n",
      "Tot_Acc_rango_0->512_kbps_x_Prov    float64         0  0     1000  0    0        0  NaN    1000     32     387     0   NaN                  1953.317   12676.575806       6.0      43.25      107.0     466.25    238920.0    0     \n",
      "Tot_Acc_rango_0.512->1_Mbps_x_Prov  float64         0  0     1000  0    0        0  NaN    1000     32     764    50   NaN                  8864.257   20312.520997       0.0     389.75     2061.0     6851.5   171244.48    0     \n",
      "Tot_Acc_rango_1->6_Mbps_x_Prov      float64         0  0     1000  0    0        0  NaN    1000     32     991     0   NaN                132772.534  322256.911138    1124.0    23812.5    42132.5   83710.25  2299705.32    0     \n",
      "Tot_Acc_rango_6->10_Mbps_x_Prov     float64         0  0     1000  0    0        0  NaN    1000     32     917    36   NaN                  38408.51   64156.365883       0.0    3876.75    13932.0    42593.5    403575.0    0     \n",
      "Tot_Acc_rango_10->20_Mbps_x_Prov    float64         0  0     1000  0    0        0  NaN    1000     32     891    69   NaN                 37138.329   88290.744464       0.0    2706.75    10503.0   26463.75    886678.0    0     \n",
      "Tot_Acc_rango_20->30_Mbps_x_Prov    float64         0  0     1000  0    0        0  NaN    1000     32     741    98   NaN                  20091.33   69299.281156       0.0      43.75     1658.0   10109.25    949093.0    0     \n",
      "Tot_Acc_rango_>30_Mbps_x_Prov       float64         0  0     1000  0    0        0  NaN    1000     32     717   106   NaN                122209.765  465749.959124       0.0       15.0     4253.5   43399.25   4068292.0    0     \n",
      "Tot_Acc_rango_Otros_Mbps_x_Prov     float64         0  0     1000  0    0        0  NaN    1000     32     459   459   NaN                 6514.3833   15296.658446       0.0        0.0      373.5    6800.75    125547.0    0     \n",
      "Tot_Acc_rango_Mbps_x_Prov           float64         0  0     1000  0    0        0  NaN    1000     32     995     0   NaN                367909.447  789934.841211   12406.0   62342.25   113620.5  196919.75   5044557.0    0      \n",
      "\n",
      "El dataframe df_internet_Acc_vel_loc_sinrangos tiene una dimensión de: (18864, 6) \n",
      "                  Tipo de Dato Int Int64 Float  Bool DateT Str    Ctgory No_Nulos Nulos Únicos Ceros Vacíos (string) Media            Desviación_Std   Mínimo     Q1_25%     Q2_50%      Q3_75%      Máximo      Negativos\n",
      "Provincia          object      0   0         0  0    0     18864  NaN    18864    0       24   NaN     0                         NaN              NaN        NaN        NaN         NaN         NaN         NaN  NaN     \n",
      "Localidad          object      0   0         0  0    0     18864  NaN    18864    0      432   NaN     0                         NaN              NaN        NaN        NaN         NaN         NaN         NaN  NaN     \n",
      "link Indec         object      0   0         0  0    0     18864  NaN    18864    0     2773   NaN     0                         NaN              NaN        NaN        NaN         NaN         NaN         NaN  NaN     \n",
      "Velocidad (Mbps)  float64      0   0     18864  0    0         0  NaN    18864    0     2665     0   NaN             32692662.202499  29500879.781726  2000010.0  6560010.0  14168090.0  58077012.5  94014020.0    0     \n",
      "Provincia_Num     float64      0   0     18864  0    0         0  NaN    18864    0      118   846   NaN                   66.866042       178.987138        0.0        3.0        10.0        30.0      1024.0    0     \n",
      "Accesos           float64      0   0     18864  0    0         0  NaN    18864    0     2320    40   NaN                  612.828499      6282.193702    -5582.0        3.0        26.0      180.25    576789.0    4      \n",
      "\n",
      "El dataframe df_internet_Velocidad_sin_Rangos tiene una dimensión de: (18884, 5) \n",
      "           Tipo de Dato Int    Int64 Float  Bool DateT Str    Ctgory No_Nulos Nulos Únicos Ceros Vacíos (string) Media         Desviación_Std Mínimo Q1_25%  Q2_50%  Q3_75%  Máximo   Negativos\n",
      "Año          int64      18884  0         0  0    0         0  NaN    18884    0        8     0   NaN              2021.017104       1.91974   2017   2019.0  2021.0  2023.0     2024    0     \n",
      "Trimestre    int64      18884  0         0  0    0         0  NaN    18884    0        4     0   NaN                 2.477653      1.126947      1      1.0     2.0     4.0        4    0     \n",
      "Provincia   object          0  0         0  0    0     18884  NaN    18884    0       24   NaN     0                      NaN           NaN    NaN      NaN     NaN     NaN      NaN  NaN     \n",
      "Velocidad  float64          0  0     18884  0    0         0  NaN    18884    0      191    24   NaN                96.171156    379.622345    0.0      4.0    12.3    50.1  10000.0    0     \n",
      "Accesos      int64      18884  0         0  0    0         0  NaN    18884    0     7010     2   NaN             14123.280979  68563.873818      0     26.0   672.5  6114.0  1346370    0      \n",
      "\n",
      "El dataframe df_internet_Dial_BAf tiene una dimensión de: (1992, 6) \n",
      "                                  Tipo de Dato Int   Int64 Float Bool DateT Str   Ctgory No_Nulos Nulos Únicos Ceros Vacíos (string) Media          Desviación_Std Mínimo Q1_25%   Q2_50%    Q3_75%    Máximo   Negativos\n",
      "Año                                 int64      1992  0        0  0    0        0  NaN    1992     0       11     0   NaN               2018.698795       3.001697   2014   2016.0    2019.0    2021.0     2024    0     \n",
      "Trimestre                           int64      1992  0        0  0    0        0  NaN    1992     0        4     0   NaN                  2.457831       1.122899      1      1.0       2.0       3.0        4    0     \n",
      "Provincia                          object         0  0        0  0    0     1992  NaN    1992     0       24   NaN     0                       NaN            NaN    NaN      NaN       NaN       NaN      NaN  NaN     \n",
      "Tot_B_Ancha_Fija_x_Prov             int64      1992  0        0  0    0        0  NaN    1992     0     1001     0   NaN             365054.225904  785885.249874  12193  61834.0  112315.0  195471.0  5038657    0     \n",
      "Tot_DialUp_x_Prov                 float64         0  0     1992  0    0        0  NaN    1992     0      329   163   NaN                902.104125    2279.397876    0.0      5.0     137.0    615.75  15229.0    0     \n",
      "Tot_DialUp_+_B_Ancha_Fija_x_Prov    int64      1992  0        0  0    0        0  NaN    1992     0      999     0   NaN             365954.518574  787608.754181  12557  62236.0  113663.0  195471.0  5044557    0     \n"
     ]
    }
   ],
   "source": [
    "import pandas as pd\n",
    "from functions import *\n",
    "opciones_impresion() # Invocar la función para mejorar la impresion y que no se recorte la información al imprimir.\n",
    "\n",
    "# Se inicializa el proceso con la importación de los csv resultantes del ETL:\n",
    "\n",
    "df_internet_nacional = pd.read_csv('/Users/usuario/Documents/M7_LABs_PI/mvp_pi2/data_csv/processed/df_internet_nacional.csv')\n",
    "df_internet_provincias = pd.read_csv('/Users/usuario/Documents/M7_LABs_PI/mvp_pi2/data_csv/processed/df_internet_provincias.csv')\n",
    "df_internet_Acc_vel_loc_sinrangos = pd.read_csv('/Users/usuario/Documents/M7_LABs_PI/mvp_pi2/data_csv/processed/df_internet_Acc_vel_loc_sinrangos.csv')\n",
    "df_internet_Velocidad_sin_Rangos = pd.read_csv('/Users/usuario/Documents/M7_LABs_PI/mvp_pi2/data_csv/processed/df_internet_Velocidad_sin_Rangos.csv')\n",
    "df_internet_Dial_BAf = pd.read_csv('/Users/usuario/Documents/M7_LABs_PI/mvp_pi2/data_csv/processed/df_internet_Dial_BAf.csv')\n",
    "\n",
    "print(\"El dataframe {} tiene una dimensión de: {}\".format(\"df_internet_nacional\", df_internet_nacional.shape),\"\\n\",validar_df(df_internet_nacional),\"\\n\")\n",
    "print(\"El dataframe {} tiene una dimensión de: {}\".format(\"df_internet_provincias\", df_internet_provincias.shape),\"\\n\",validar_df(df_internet_provincias),\"\\n\")\n",
    "print(\"El dataframe {} tiene una dimensión de: {}\".format(\"df_internet_Acc_vel_loc_sinrangos\", df_internet_Acc_vel_loc_sinrangos.shape),\"\\n\",validar_df(df_internet_Acc_vel_loc_sinrangos),\"\\n\")\n",
    "print(\"El dataframe {} tiene una dimensión de: {}\".format(\"df_internet_Velocidad_sin_Rangos\", df_internet_Velocidad_sin_Rangos.shape),\"\\n\",validar_df(df_internet_Velocidad_sin_Rangos),\"\\n\")\n",
    "print(\"El dataframe {} tiene una dimensión de: {}\".format(\"df_internet_Dial_BAf\", df_internet_Dial_BAf.shape),\"\\n\",validar_df(df_internet_Dial_BAf))\n"
   ]
  },
  {
   "cell_type": "markdown",
   "metadata": {},
   "source": [
    "- Se imputan los datos nulos de los campos \"Tot_Vel_Media_DL_Trim_x_Prov, Tot_Acc_ADSL_x_Prov, Tot_Acc_CaModem_x_Prov, Tot_Acc_FO_x_Prov, Tot_Acc_Wireless_x_Prov, Tot_Acc_Otros_x_Prov, Tot_Acc_x_Prov, Tot_pntrcion_x_c100_Habi_x_Prov, Tot_pntrcion_x_c100_Hoga_x_Prov, Tot_Acc_rango_0->512_kbps_x_Prov, Tot_Acc_rango_0.512->1_Mbps_x_Prov, Tot_Acc_rango_1->6_Mbps_x_Prov, Tot_Acc_rango_6->10_Mbps_x_Prov, Tot_Acc_rango_10->20_Mbps_x_Prov, Tot_Acc_rango_20->30_Mbps_x_Prov, Tot_Acc_rango_>30_Mbps_x_Prov, Tot_Acc_rango_Otros_Mbps_x_Prov, Tot_Acc_rango_Mbps_x_Prov\" en el dataframe \"df_internet_provincias\" a su media aritmetica respectivamente:"
   ]
  },
  {
   "cell_type": "code",
   "execution_count": 3,
   "metadata": {},
   "outputs": [
    {
     "name": "stdout",
     "output_type": "stream",
     "text": [
      "                                   Tipo de Dato Int   Int64 Float Bool DateT Str   Ctgory No_Nulos Nulos Únicos Ceros Vacíos (string) Media          Desviación_Std Mínimo    Q1_25%     Q2_50%     Q3_75%       Máximo      Negativos\n",
      "Año                                   int64      1032  0        0  0    0        0  NaN    1032     0       11     0   NaN               2018.883721        3.10596      2014     2016.0     2019.0       2022.0        2024    0     \n",
      "Trimestre                             int64      1032  0        0  0    0        0  NaN    1032     0        4     0   NaN                  2.488372       1.128874         1        1.0        2.0          4.0           4    0     \n",
      "Provincia                            object         0  0        0  0    0     1032  NaN    1032     0       24   NaN     0                       NaN            NaN       NaN        NaN        NaN          NaN         NaN  NaN     \n",
      "Tot_Vel_Media_DL_Trim_x_Prov        float64         0  0     1032  0    0        0  NaN    1032     0     1003     0   NaN                 24.720245      33.266673  2.573729    4.89503  10.647459    29.159007      234.44    0     \n",
      "Tot_Acc_ADSL_x_Prov                 float64         0  0     1032  0    0        0  NaN    1032     0      897     0   NaN             112930.860973  233409.756639    2230.0    20573.5    45377.0     98622.25   1586343.0    0     \n",
      "Tot_Acc_CaModem_x_Prov              float64         0  0     1032  0    0        0  NaN    1032     0      890    14   NaN             182158.281033  440565.152571       0.0    11386.0    42107.0      80695.0   2797700.0    0     \n",
      "Tot_Acc_FO_x_Prov                   float64         0  0     1032  0    0        0  NaN    1032     0      754     9   NaN              48556.986097  173724.023673       0.0     364.75     3203.0     32928.75   1849476.0    0     \n",
      "Tot_Acc_Wireless_x_Prov             float64         0  0     1032  0    0        0  NaN    1032     0      716    38   NaN              12542.229394   20654.348168       0.0      911.0     5652.5     14034.75    138638.0    0     \n",
      "Tot_Acc_Otros_x_Prov                float64         0  0     1032  0    0        0  NaN    1032     0      672     0   NaN               6497.041708   11102.745116       2.0     370.25     2148.0       7190.0     73415.0    0     \n",
      "Tot_Acc_x_Prov                      float64         0  0     1032  0    0        0  NaN    1032     0      999     0   NaN             362685.399206  767831.643998   12557.0    62892.0   115854.5     204881.0   5011620.0    0     \n",
      "Tot_pntrcion_x_c100_Habi_x_Prov     float64         0  0     1032  0    0        0  NaN    1032     0      991     0   NaN                 15.727248       9.095537     2.723   9.117508  13.889779    20.064977   52.236739    0     \n",
      "Tot_pntrcion_x_c100_Hoga_x_Prov     float64         0  0     1032  0    0        0  NaN    1032     0      994     0   NaN                 52.794973      23.757561   9.51397  34.888623  51.157509     65.78576  124.061394    0     \n",
      "Tot_Acc_rango_0->512_kbps_x_Prov    float64         0  0     1032  0    0        0  NaN    1032     0      387     0   NaN                  1953.317   12478.298469       6.0       47.0      109.0        517.0    238920.0    0     \n",
      "Tot_Acc_rango_0.512->1_Mbps_x_Prov  float64         0  0     1032  0    0        0  NaN    1032     0      764    50   NaN                  8864.257   19994.808025       0.0     434.75     2411.0      7910.25   171244.48    0     \n",
      "Tot_Acc_rango_1->6_Mbps_x_Prov      float64         0  0     1032  0    0        0  NaN    1032     0      991     0   NaN                132772.534  317216.414146    1124.0    24231.5    44163.5      86897.5  2299705.32    0     \n",
      "Tot_Acc_rango_6->10_Mbps_x_Prov     float64         0  0     1032  0    0        0  NaN    1032     0      917    36   NaN                  38408.51   63152.880906       0.0    4086.75    15036.0     38753.25    403575.0    0     \n",
      "Tot_Acc_rango_10->20_Mbps_x_Prov    float64         0  0     1032  0    0        0  NaN    1032     0      891    69   NaN                 37138.329   86909.767931       0.0     2959.5    11321.5     28437.25    886678.0    0     \n",
      "Tot_Acc_rango_20->30_Mbps_x_Prov    float64         0  0     1032  0    0        0  NaN    1032     0      741    98   NaN                  20091.33   68215.354617       0.0       49.0     1888.5     12415.75    949093.0    0     \n",
      "Tot_Acc_rango_>30_Mbps_x_Prov       float64         0  0     1032  0    0        0  NaN    1032     0      717   106   NaN                122209.765  458465.053241       0.0       21.0     5004.0     51135.75   4068292.0    0     \n",
      "Tot_Acc_rango_Otros_Mbps_x_Prov     float64         0  0     1032  0    0        0  NaN    1032     0      458   459   NaN                 6514.3833   15057.399773       0.0        0.0      659.0  6518.537475    125547.0    0     \n",
      "Tot_Acc_rango_Mbps_x_Prov           float64         0  0     1032  0    0        0  NaN    1032     0      995     0   NaN                367909.447  777579.282484   12406.0   63169.25   116359.0    207891.25   5044557.0    0     \n"
     ]
    }
   ],
   "source": [
    "# Se imputan los datos nulos de los campos \"Tot_Vel_Media_DL_Trim_x_Prov\", \"Tot_Acc_ADSL_x_Prov\", \"Tot_Acc_CaModem_x_Prov\", \"Tot_Acc_FO_x_Prov\", \"Tot_Acc_Wireless_x_Prov\", \"Tot_Acc_Otros_x_Prov\", \"Tot_Acc_x_Prov\", \"Tot_pntrcion_x_c100_Habi_x_Prov\", \"Tot_pntrcion_x_c100_Hoga_x_Prov\", \"Tot_Acc_rango_0->512_kbps_x_Prov\", \"Tot_Acc_rango_0.512->1_Mbps_x_Prov\", \"Tot_Acc_rango_1->6_Mbps_x_Prov\", \"Tot_Acc_rango_6->10_Mbps_x_Prov\", \"Tot_Acc_rango_10->20_Mbps_x_Prov\", \"Tot_Acc_rango_20->30_Mbps_x_Prov\", \"Tot_Acc_rango_>30_Mbps_x_Prov\", \"Tot_Acc_rango_Otros_Mbps_x_Prov\", \"Tot_Acc_rango_Mbps_x_Prov\" en el dataframe \"df_internet_provincias\" a su media aritmetica respectivamente:\n",
    "\n",
    "campos_a_imputar = [\n",
    "    \"Tot_Vel_Media_DL_Trim_x_Prov\",\n",
    "    \"Tot_Acc_ADSL_x_Prov\",\n",
    "    \"Tot_Acc_CaModem_x_Prov\",\n",
    "    \"Tot_Acc_FO_x_Prov\",\n",
    "    \"Tot_Acc_Wireless_x_Prov\",\n",
    "    \"Tot_Acc_Otros_x_Prov\",\n",
    "    \"Tot_Acc_x_Prov\",\n",
    "    \"Tot_pntrcion_x_c100_Habi_x_Prov\",\n",
    "    \"Tot_pntrcion_x_c100_Hoga_x_Prov\",\n",
    "    \"Tot_Acc_rango_0->512_kbps_x_Prov\",\n",
    "    \"Tot_Acc_rango_0.512->1_Mbps_x_Prov\",\n",
    "    \"Tot_Acc_rango_1->6_Mbps_x_Prov\",\n",
    "    \"Tot_Acc_rango_6->10_Mbps_x_Prov\",\n",
    "    \"Tot_Acc_rango_10->20_Mbps_x_Prov\",\n",
    "    \"Tot_Acc_rango_20->30_Mbps_x_Prov\",\n",
    "    \"Tot_Acc_rango_>30_Mbps_x_Prov\",\n",
    "    \"Tot_Acc_rango_Otros_Mbps_x_Prov\",\n",
    "    \"Tot_Acc_rango_Mbps_x_Prov\"\n",
    "]\n",
    "\n",
    "df_internet_provincias = imputar_media(df_internet_provincias, campos_a_imputar)\n",
    "print(validar_df(df_internet_provincias))"
   ]
  },
  {
   "cell_type": "markdown",
   "metadata": {},
   "source": [
    "Tras la depuración de los datos proseguimos con la reviion en detalle del cotenido a nivel de datos y lo que representan para el analisis:\n",
    "\n",
    "1. Revisión y limpieza de valores atípicos:\n",
    "\t-\tSe identifican valores negativos en 4 datos del campo \"Accesos\" los cuales se imputan a valores positivos asumiendo pudo ser un error de digitación o carga, y considerando no se darian accesos negativos ya que eso obedeceria es a otro tipo de indicador asociado a bajas o shurn."
   ]
  },
  {
   "cell_type": "code",
   "execution_count": null,
   "metadata": {},
   "outputs": [
    {
     "name": "stdout",
     "output_type": "stream",
     "text": [
      "Valores negativos en 'Accesos':\n",
      "Series([], Name: Accesos, dtype: float64)\n",
      "Series([], Name: Accesos, dtype: float64)\n"
     ]
    }
   ],
   "source": [
    "# Imputamos los valores negativos en el campos \"Accesos\" del dataframe \"df_internet_Acc_vel_loc_sinrangos\" los cuales seran reemplazados por su valor absoluto:\n",
    "valores_negativos = df_internet_Acc_vel_loc_sinrangos[\"Accesos\"][df_internet_Acc_vel_loc_sinrangos[\"Accesos\"] < 0]\n",
    "print(\"Valores negativos en 'Accesos':\")\n",
    "print(valores_negativos)\n",
    "df_internet_Acc_vel_loc_sinrangos.loc[df_internet_Acc_vel_loc_sinrangos[\"Accesos\"] < 0, \"Accesos\"] = df_internet_Acc_vel_loc_sinrangos[\"Accesos\"].abs() # Reemplazamos por su valor absoluto.\n",
    "print(valores_negativos) # Comprobamos que se han reemplazado los valores negativos por su valor absoluto."
   ]
  },
  {
   "cell_type": "markdown",
   "metadata": {},
   "source": [
    "-   Validamos sesgos en las variables numericas continuas para identificar la necesidad de buscar posibles outlayers posteriormente"
   ]
  },
  {
   "cell_type": "code",
   "execution_count": 16,
   "metadata": {},
   "outputs": [
    {
     "name": "stdout",
     "output_type": "stream",
     "text": [
      "Tot_Vel_Media_DL: skewness = 1.33\n",
      "Tot_Acc_ADSL: skewness = -0.49\n",
      "Tot_Acc_CaModem: skewness = -0.14\n",
      "Tot_Acc_FO: skewness = 1.05\n",
      "Tot_Acc_Wireless: skewness = 0.18\n",
      "Tot_Acc_Otros: skewness = -0.09\n",
      "Total: skewness = 0.26\n",
      "Tot_pntrcion_x_c100_Hoga: skewness = 0.24\n",
      "Tot_pntrcion_x_c100_Habi: skewness = 0.25\n",
      "Tot_Acc_rango_0_512_kbps: skewness = 2.92\n",
      "Tot_Acc_rango_0.512->1_Mbps: skewness = 1.08\n",
      "Tot_Acc_rango_1->6_Mbps: skewness = -0.17\n",
      "Tot_Acc_rango_6->10_Mbps: skewness = -1.29\n",
      "Tot_Acc_rango_10->20_Mbps: skewness = 0.77\n",
      "Tot_Acc_rango_20->30_Mbps: skewness = 1.11\n",
      "Tot_Acc_rango_>30_Mbps: skewness = 0.58\n",
      "Tot_Acc_rango_Otros: skewness = 0.15\n",
      "Tot_Acc_rango: skewness = 0.22\n",
      "Tot_B_Ancha_Fija: skewness = 0.25\n",
      "Tot_DialUp: skewness = 0.21\n",
      "Tot_DialUp_+_B_Ancha_Fija: skewness = 0.26\n",
      "Ingresos (miles de pesos): skewness = 3.38\n"
     ]
    }
   ],
   "source": [
    "import pandas as pd\n",
    "import matplotlib.pyplot as plt\n",
    "\n",
    "# Lista de columnas numéricas continuas a evaluar para identificación de sesgos:\n",
    "columnas_continuas = [\n",
    "    \"Tot_Vel_Media_DL\", \"Tot_Acc_ADSL\", \"Tot_Acc_CaModem\", \"Tot_Acc_FO\",\n",
    "    \"Tot_Acc_Wireless\", \"Tot_Acc_Otros\", \"Total\",\n",
    "    \"Tot_pntrcion_x_c100_Hoga\", \"Tot_pntrcion_x_c100_Habi\", \"Tot_Acc_rango_0_512_kbps\",\n",
    "    \"Tot_Acc_rango_0.512->1_Mbps\", \"Tot_Acc_rango_1->6_Mbps\", \"Tot_Acc_rango_6->10_Mbps\",\n",
    "    \"Tot_Acc_rango_10->20_Mbps\", \"Tot_Acc_rango_20->30_Mbps\", \"Tot_Acc_rango_>30_Mbps\",\n",
    "    \"Tot_Acc_rango_Otros\", \"Tot_Acc_rango\", \"Tot_B_Ancha_Fija\", \"Tot_DialUp\",\n",
    "    \"Tot_DialUp_+_B_Ancha_Fija\", \"Ingresos (miles de pesos)\"\n",
    "]\n",
    "\n",
    "# Iterar sobre las columnas y calcular el sesgo para las que existan en el DataFrame\n",
    "for col in columnas_continuas:\n",
    "    if col in df_internet_nacional.columns:\n",
    "        skew_val = df_internet_nacional[col].skew()\n",
    "        print(f\"{col}: skewness = {skew_val:.2f}\")"
   ]
  },
  {
   "cell_type": "code",
   "execution_count": null,
   "metadata": {},
   "outputs": [],
   "source": [
    "Tot_Vel_Media_DL_Trim_x_Prov,Tot_Acc_ADSL_x_Prov,Tot_Acc_CaModem_x_Prov,Tot_Acc_FO_x_Prov,Tot_Acc_Wireless_x_Prov,Tot_Acc_Otros_x_Prov,Tot_Acc_x_Prov,Tot_pntrcion_x_c100_Habi_x_Prov,Tot_pntrcion_x_c100_Hoga_x_Prov,Tot_Acc_rango_0->512_kbps_x_Prov,Tot_Acc_rango_0.512->1_Mbps_x_Prov,Tot_Acc_rango_1->6_Mbps_x_Prov,Tot_Acc_rango_6->10_Mbps_x_Prov,Tot_Acc_rango_10->20_Mbps_x_Prov,Tot_Acc_rango_20->30_Mbps_x_Prov,Tot_Acc_rango_>30_Mbps_x_Prov,Tot_Acc_rango_Otros_Mbps_x_Prov,Tot_Acc_rango_Mbps_x_Prov"
   ]
  },
  {
   "cell_type": "code",
   "execution_count": null,
   "metadata": {},
   "outputs": [],
   "source": [
    "Velocidad (Mbps),Provincia_Num,Accesos"
   ]
  },
  {
   "cell_type": "code",
   "execution_count": null,
   "metadata": {},
   "outputs": [],
   "source": [
    "Tot_B_Ancha_Fija_x_Prov,Tot_DialUp_x_Prov,Tot_DialUp_+_B_Ancha_Fija_x_Prov"
   ]
  },
  {
   "cell_type": "code",
   "execution_count": null,
   "metadata": {},
   "outputs": [],
   "source": [
    "Velocidad,Accesos"
   ]
  },
  {
   "cell_type": "code",
   "execution_count": 17,
   "metadata": {},
   "outputs": [
    {
     "ename": "NameError",
     "evalue": "name 'transformar_y_visualizar' is not defined",
     "output_type": "error",
     "traceback": [
      "\u001b[0;31m---------------------------------------------------------------------------\u001b[0m",
      "\u001b[0;31mNameError\u001b[0m                                 Traceback (most recent call last)",
      "Cell \u001b[0;32mIn[17], line 5\u001b[0m\n\u001b[1;32m      1\u001b[0m \u001b[38;5;66;03m#\u001b[39;00m\n\u001b[1;32m      2\u001b[0m \u001b[38;5;66;03m# Ejemplo de uso:\u001b[39;00m\n\u001b[1;32m      3\u001b[0m \u001b[38;5;66;03m# Supongamos que queremos aplicar la transformación logarítmica a la columna \"Ingresos (miles de pesos)\"\u001b[39;00m\n\u001b[1;32m      4\u001b[0m \u001b[38;5;66;03m# y mostrar los tres tipos de gráficos:\u001b[39;00m\n\u001b[0;32m----> 5\u001b[0m df_transformado \u001b[38;5;241m=\u001b[39m \u001b[43mtransformar_y_visualizar\u001b[49m(df_internet_nacional, \u001b[38;5;124m\"\u001b[39m\u001b[38;5;124mIngresos (miles de pesos)\u001b[39m\u001b[38;5;124m\"\u001b[39m, \n\u001b[1;32m      6\u001b[0m                                              log_transform\u001b[38;5;241m=\u001b[39m\u001b[38;5;28;01mTrue\u001b[39;00m, sqrt_transform\u001b[38;5;241m=\u001b[39m\u001b[38;5;28;01mFalse\u001b[39;00m,\n\u001b[1;32m      7\u001b[0m                                              mostrar_hist\u001b[38;5;241m=\u001b[39m\u001b[38;5;28;01mTrue\u001b[39;00m, mostrar_box\u001b[38;5;241m=\u001b[39m\u001b[38;5;28;01mTrue\u001b[39;00m, mostrar_qq\u001b[38;5;241m=\u001b[39m\u001b[38;5;28;01mTrue\u001b[39;00m)\n",
      "\u001b[0;31mNameError\u001b[0m: name 'transformar_y_visualizar' is not defined"
     ]
    }
   ],
   "source": [
    "#\n",
    "# Ejemplo de uso:\n",
    "# Supongamos que queremos aplicar la transformación logarítmica a la columna \"Ingresos (miles de pesos)\"\n",
    "# y mostrar los tres tipos de gráficos:\n",
    "df_transformado = transformar_y_visualizar(df_internet_nacional, \"Ingresos (miles de pesos)\", \n",
    "                                             log_transform=True, sqrt_transform=False,\n",
    "                                             mostrar_hist=True, mostrar_box=True, mostrar_qq=True)\n"
   ]
  },
  {
   "cell_type": "markdown",
   "metadata": {},
   "source": [
    "- Se revisa cada campo en busca de Outliers, se determina si se mantienen o si se suavizarán (winsorizing) o si se filtrarán los más extremos."
   ]
  },
  {
   "cell_type": "code",
   "execution_count": null,
   "metadata": {},
   "outputs": [],
   "source": []
  },
  {
   "cell_type": "markdown",
   "metadata": {},
   "source": [
    "2. Conversión final de tipos de datos\n",
    "\t•\tYa viste que hay columnas object (strings) que tal vez puedan convertirse en category o en datetime si aplica.\n",
    "\t•\tPor ejemplo, la columna \"Periodo\" podría ser un string que quizás quieras convertir en un datetime si está en un formato de fecha (Ene-Mar 2014, etc.), o mantenerla como string/categoría.\n",
    "\t•\tSi hay columnas que se sabe que son “etiquetas” (ej: “Provincia”), considera convertirlas a category si no lo has hecho todavía en el CSV.\n",
    "\n",
    "3. Integridad y consistencia\n",
    "\t•\tAsegúrate de que las combinaciones de Año+Trimestre (o Año+Trimestre+Provincia) sean coherentes. Si hay duplicados inesperados, revisa por qué.\n",
    "\t•\tConfirma que no haya valores duplicados que no tengan sentido, o registros repetidos por error.\n",
    "\n",
    "4. Quick EDA univariado\n",
    "\n",
    "Para cada DataFrame, podrías:\n",
    "\t•\tDescribir cada columna con df.describe() y df['col'].value_counts() (para variables categóricas).\n",
    "\t•\tVisualizar histogramas o boxplots simples (por ejemplo, con matplotlib o seaborn) para las columnas numéricas más relevantes."
   ]
  },
  {
   "cell_type": "code",
   "execution_count": 8,
   "metadata": {},
   "outputs": [
    {
     "name": "stdout",
     "output_type": "stream",
     "text": [
      "Outlayers en 'df_internet_nacional':\n"
     ]
    },
    {
     "ename": "NameError",
     "evalue": "name 'outlayers' is not defined",
     "output_type": "error",
     "traceback": [
      "\u001b[0;31m---------------------------------------------------------------------------\u001b[0m",
      "\u001b[0;31mNameError\u001b[0m                                 Traceback (most recent call last)",
      "Cell \u001b[0;32mIn[8], line 3\u001b[0m\n\u001b[1;32m      1\u001b[0m \u001b[38;5;66;03m# Revisamos la presencia de Outlayers de cada variable tipo numerica en cada dataframe:\u001b[39;00m\n\u001b[1;32m      2\u001b[0m \u001b[38;5;28mprint\u001b[39m(\u001b[38;5;124m\"\u001b[39m\u001b[38;5;124mOutlayers en \u001b[39m\u001b[38;5;124m'\u001b[39m\u001b[38;5;124mdf_internet_nacional\u001b[39m\u001b[38;5;124m'\u001b[39m\u001b[38;5;124m:\u001b[39m\u001b[38;5;124m\"\u001b[39m)\n\u001b[0;32m----> 3\u001b[0m \u001b[43moutlayers\u001b[49m(df_internet_nacional)\n\u001b[1;32m      4\u001b[0m \u001b[38;5;28mprint\u001b[39m(\u001b[38;5;124m\"\u001b[39m\u001b[38;5;130;01m\\n\u001b[39;00m\u001b[38;5;124m\"\u001b[39m)\n\u001b[1;32m      5\u001b[0m \u001b[38;5;28mprint\u001b[39m(\u001b[38;5;124m\"\u001b[39m\u001b[38;5;124mOutlayers en \u001b[39m\u001b[38;5;124m'\u001b[39m\u001b[38;5;124mdf_internet_provincias\u001b[39m\u001b[38;5;124m'\u001b[39m\u001b[38;5;124m:\u001b[39m\u001b[38;5;124m\"\u001b[39m)\n",
      "\u001b[0;31mNameError\u001b[0m: name 'outlayers' is not defined"
     ]
    }
   ],
   "source": [
    "# Revisamos la presencia de Outlayers de cada variable tipo numerica en cada dataframe:\n",
    "print(\"Outlayers en 'df_internet_nacional':\")\n",
    "outlayers(df_internet_nacional)\n",
    "print(\"\\n\")\n",
    "print(\"Outlayers en 'df_internet_provincias':\")\n",
    "outlayers(df_internet_provincias)\n",
    "print(\"\\n\")\n",
    "print(\"Outlayers en 'df_internet_Acc_vel_loc_sinrangos':\")\n",
    "outlayers(df_internet_Acc_vel_loc_sinrangos)\n",
    "print(\"\\n\")\n",
    "print(\"Outlayers en 'df_internet_Velocidad_sin_Rangos':\")\n",
    "outlayers(df_internet_Velocidad_sin_Rangos)\n",
    "print(\"\\n\")\n",
    "print(\"Outlayers en 'df_internet_Dial_BAf':\")\n",
    "outlayers(df_internet_Dial_BAf)"
   ]
  },
  {
   "cell_type": "code",
   "execution_count": null,
   "metadata": {},
   "outputs": [
    {
     "name": "stdout",
     "output_type": "stream",
     "text": [
      "\n",
      "*** df_internet_nacional ***\n"
     ]
    },
    {
     "ename": "AttributeError",
     "evalue": "'str' object has no attribute 'dtypes'",
     "output_type": "error",
     "traceback": [
      "\u001b[0;31m---------------------------------------------------------------------------\u001b[0m",
      "\u001b[0;31mAttributeError\u001b[0m                            Traceback (most recent call last)",
      "Cell \u001b[0;32mIn[12], line 4\u001b[0m\n\u001b[1;32m      2\u001b[0m \u001b[38;5;28mprint\u001b[39m(\u001b[38;5;124m\"\u001b[39m\u001b[38;5;130;01m\\n\u001b[39;00m\u001b[38;5;124m*** df_internet_nacional ***\u001b[39m\u001b[38;5;124m\"\u001b[39m)\n\u001b[1;32m      3\u001b[0m \u001b[38;5;66;03m#print(df_internet_nacional.shape)\u001b[39;00m\n\u001b[0;32m----> 4\u001b[0m \u001b[38;5;28mprint\u001b[39m(\u001b[38;5;124m\"\u001b[39m\u001b[38;5;124mTipos de datos:\u001b[39m\u001b[38;5;130;01m\\n\u001b[39;00m\u001b[38;5;124m\"\u001b[39m, \u001b[43mdf_internet_nacional\u001b[49m\u001b[38;5;241;43m.\u001b[39;49m\u001b[43mdtypes\u001b[49m)\n\u001b[1;32m      5\u001b[0m \u001b[38;5;28mprint\u001b[39m(\u001b[38;5;124m\"\u001b[39m\u001b[38;5;124mNulos:\u001b[39m\u001b[38;5;130;01m\\n\u001b[39;00m\u001b[38;5;124m\"\u001b[39m, df_internet_nacional\u001b[38;5;241m.\u001b[39misnull()\u001b[38;5;241m.\u001b[39msum())\n\u001b[1;32m      6\u001b[0m display(df_internet_nacional\u001b[38;5;241m.\u001b[39mhead(\u001b[38;5;241m3\u001b[39m))\n",
      "\u001b[0;31mAttributeError\u001b[0m: 'str' object has no attribute 'dtypes'"
     ]
    }
   ],
   "source": [
    "# "
   ]
  },
  {
   "cell_type": "markdown",
   "metadata": {},
   "source": [
    "2. Análisis estadístico y distribuciones\n",
    "\t1.\tEstadísticas descriptivas\n",
    "\t    •\tRevisar las estadísticas básicas de las columnas numéricas: .describe().\n",
    "\t    •\tObservar la media, desviación estándar, mínimos, máximos, cuartiles, etc.\n",
    "    2.\tConteo de valores categóricos\n",
    "\t    •\tPara columnas como Provincia, Partido, Localidad, etc., revisar la distribución con .value_counts().\n",
    "\t    •\tDetectar categorías con muy pocos datos o atípicas.\n",
    "\t3.\tDistribución de los datos\n",
    "\t    •\tHistograma de variables clave (por ejemplo, accesos, velocidades, penetraciones).\n",
    "\t    •\tBoxplots para detectar outliers (por ejemplo, boxplot de velocidad media o de accesos)."
   ]
  },
  {
   "cell_type": "code",
   "execution_count": null,
   "metadata": {},
   "outputs": [],
   "source": [
    "n"
   ]
  },
  {
   "cell_type": "markdown",
   "metadata": {},
   "source": [
    "3. Exploración de relaciones y tendencias\n",
    "\t1.\tRelaciones entre variables\n",
    "\t    •\tGraficar relación entre velocidad y accesos, o entre penetración y provincia.\n",
    "\t    •\tCorrelaciones: df_internet_nacional.corr() (solo para numéricos).\n",
    "    2.\tAnálisis temporal (si aplica)\n",
    "\t    •\tSi existen columnas de trimestre/año, analizar la evolución de ciertos indicadores a lo largo del tiempo (por ejemplo, velocidad media o total de accesos).\n",
    "\t3.\tAnálisis por provincia/partido/localidad (segmentación geográfica)\n",
    "\t    •\tComparar promedios o totales de accesos y velocidad por provincia (barras, boxplots, etc.)."
   ]
  },
  {
   "cell_type": "code",
   "execution_count": null,
   "metadata": {},
   "outputs": [],
   "source": []
  },
  {
   "cell_type": "markdown",
   "metadata": {},
   "source": [
    "4. Conclusiones preliminares\n",
    "\t1.\tPrincipales hallazgos\n",
    "\t    •\tProvincias con mayor número de accesos.\n",
    "\t    •\tProvincias con mayor velocidad media.\n",
    "\t    •\tEvolución temporal de penetración, accesos, etc.\n",
    "\t2.\tProblemas detectados\n",
    "\t    •\tColumnas con muchos nulos.\n",
    "\t    •\tPosibles valores atípicos o inconsistentes.\n",
    "\t    •\tVariables que no aportan información o que podrían fusionarse.\n",
    "\t3.\tDecisiones para el Dashboard\n",
    "\t    •\tIdentificar qué métricas se van a mostrar (velocidad, accesos, penetración, ingresos, etc.).\n",
    "\t    •\tDefinir filtros relevantes (por provincia, año, trimestre)."
   ]
  },
  {
   "cell_type": "code",
   "execution_count": null,
   "metadata": {},
   "outputs": [],
   "source": []
  },
  {
   "cell_type": "code",
   "execution_count": null,
   "metadata": {},
   "outputs": [],
   "source": [
    "asd"
   ]
  }
 ],
 "metadata": {
  "kernelspec": {
   "display_name": "virtualenv",
   "language": "python",
   "name": "python3"
  },
  "language_info": {
   "codemirror_mode": {
    "name": "ipython",
    "version": 3
   },
   "file_extension": ".py",
   "mimetype": "text/x-python",
   "name": "python",
   "nbconvert_exporter": "python",
   "pygments_lexer": "ipython3",
   "version": "3.12.3"
  }
 },
 "nbformat": 4,
 "nbformat_minor": 2
}
