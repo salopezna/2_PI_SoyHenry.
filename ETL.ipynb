{
 "cells": [
  {
   "cell_type": "markdown",
   "metadata": {},
   "source": [
    "---\n",
    "### ✅ **ANÁLISIS DEL SECTOR DE INTERNET EN ARGENTINA**\n",
    "#### *La industria de las telecomunicaciones ha desempeñado un papel crucial en nuestra sociedad, facilitando la información a escala global y permitiendo la comunicación continua. La transferencia de datos y la comunicación se realizan principalmente a través de internet, líneas telefónicas fijas y móviles. Argentina está a la vanguardia en el desarrollo de las telecomunicaciones, contando con un total de 62,12 millones de conexiones en 2020. Dada la relevancia del tema para el país, he llevado a cabo un análisis exhaustivo que permite identificar el comportamiento de este sector a nivel nacional, enfocándome en el acceso al servicio de Internet y su relación con otros servicios de comunicaciones. El objetivo es generar recomendaciones para ofrecer una buena calidad de servicio, identificar oportunidades de crecimiento y plantear soluciones personalizadas para clientes actuales o potenciales.*\n",
    "---"
   ]
  },
  {
   "cell_type": "markdown",
   "metadata": {},
   "source": [
    "### 💡 **ETL del Proyecto**\n",
    "\n",
    "#### *A partir de fuentes de información como el portal de ENACOM (https://indicadores.enacom.gob.ar/datos-abiertos), se obtienen datos asociados al comportamiento histórico trimestral desde el año 2014 hasta el tercer trimestre de 2024 a nivel nacional y, en algunos casos, a nivel provincial. Todos estos datos están concentrados en múltiples hojas dentro de un solo archivo de Excel.*\n",
    "\n",
    "### ✅ **Carga de archivos Crudos:**\n",
    "\n",
    "1. **Se inicializa el proceso con la importacion del archivo \"Internet.xlsx\".**\n",
    "2. **Con la funcion \"split_xls_x_df\" creamosun dataframe por cada hoja contenida en el archivo de excel.**\n",
    "3. **En una primera exploracio de las hojas se idetifica hay datos desagregados por año y trimestre a nivel nacional y hay otros en año, trimestre y provincia por lo cual se agrupa toda la data en dos macro dataframes.**\n",
    "4. **Para facilitar el reconocimiento del contenido de cada campo en los dos dataframe macro se ajustan los nombres de los campos por nombres practicos.**"
   ]
  },
  {
   "cell_type": "code",
   "execution_count": null,
   "metadata": {},
   "outputs": [],
   "source": [
    "import pandas as pd\n",
    "import sys\n",
    "import os\n",
    "\n",
    "\n",
    "from src.functions import load_excel_sheets # importamos la función \"load_excel_sheets()\" de la carpeta \"src\"\n",
    "\n",
    "\n",
    "# Adicionamos la carpeta \"src\" al path para poder importar la función \"load_excel_sheets()\"\n",
    "#sys.path.append(os.path.abspath(os.path.join(os.getcwd(), '..', 'src')))\n",
    "\n",
    "\n",
    "# Ensure the src directory contains preprocess_data.py\n",
    "#if not os.path.exists(os.path.join(os.getcwd(), '..', 'src', 'preprocess_data.py')):\n",
    "#    raise FileNotFoundError(\"The file preprocess_data.py does not exist in the src directory\")\n",
    "\n",
    "# importamos la función \"load_excel_sheets()\" de la carpeta \"src\"\n",
    "#from preprocess_data import load_excel_sheets\n",
    "\n",
    "\n"
   ]
  },
  {
   "cell_type": "markdown",
   "metadata": {},
   "source": [
    "---\n",
    "\n",
    "### ✅ **Carga de archivos Crudos:**\n",
    "\n",
    "1. **Se inicializa el proceso con la importacion del archivo Usa bloques de código triple backtick (` ``` `)** para mantener la estructura sin que se rompa.\n",
    "\n",
    "\n",
    "\n",
    "\n",
    "2. **Agrega espacios para alinear los elementos correctamente.**\n",
    "3. **Usa emojis estratégicamente** para resaltar los tipos de archivos/carpetas sin sobrecargar.\n",
    "4. **Evita descripciones largas en la misma línea.** Si es necesario, usa comentarios o viñetas aparte.\n",
    "\n",
    "---\n",
    "\n",
    "### 💡 **Consejo en Jupyter Notebook:**\n",
    "\n",
    "Si en **Jupyter Notebook** no se ve bien por los emojis o la alineación:\n",
    "\n",
    "- **Usa solo caracteres ASCII** para estructuras más simples:\n",
    "  \n",
    "```markdown\n",
    "# Estructura del Proyecto                   "
   ]
  },
  {
   "cell_type": "markdown",
   "metadata": {},
   "source": []
  },
  {
   "cell_type": "code",
   "execution_count": null,
   "metadata": {
    "vscode": {
     "languageId": "markdown"
    }
   },
   "outputs": [],
   "source": [
    "#### Organización del Proyecto para el Desarrollo del Análisis del Sector de Internet en Argentina\n",
    "### A partir de fuentes de información como el portal de ENACOM (https://indicadores.enacom.gob.ar/datos-abiertos), se obtienen datos asociados al comportamiento histórico trimestral desde el año 2014 hasta el tercer trimestre de 2024 a nivel nacional y, en algunos casos, a nivel provincial. Todos estos datos están concentrados en múltiples hojas dentro de un solo archivo de Excel."
   ]
  },
  {
   "cell_type": "code",
   "execution_count": null,
   "metadata": {},
   "outputs": [],
   "source": []
  },
  {
   "cell_type": "markdown",
   "metadata": {},
   "source": [
    "# **Poceso de ETL en datos Nacionales de Argetina sobre su servicio de Internet**\n",
    "## *Con base en un archivo de Excel que contiene multiples hojas con información sobre el servicio de internet en el pais de Argentina, iniciamos el proceso de ExploraciÓn, transformación y carga de la información para crear la base a nivel de datos que permitirá crear valor aplicando técnicas de Data Analitycs y Ciencia de Datos.*"
   ]
  },
  {
   "cell_type": "code",
   "execution_count": null,
   "metadata": {},
   "outputs": [],
   "source": []
  }
 ],
 "metadata": {
  "kernelspec": {
   "display_name": "virtualenv",
   "language": "python",
   "name": "python3"
  },
  "language_info": {
   "codemirror_mode": {
    "name": "ipython",
    "version": 3
   },
   "file_extension": ".py",
   "mimetype": "text/x-python",
   "name": "python",
   "nbconvert_exporter": "python",
   "pygments_lexer": "ipython3",
   "version": "3.12.3"
  }
 },
 "nbformat": 4,
 "nbformat_minor": 2
}
